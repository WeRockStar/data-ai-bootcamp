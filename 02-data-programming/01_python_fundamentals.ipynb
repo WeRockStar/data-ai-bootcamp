{
 "cells": [
  {
   "cell_type": "markdown",
   "metadata": {},
   "source": [
    "# Data Types"
   ]
  },
  {
   "cell_type": "code",
   "execution_count": 1,
   "metadata": {},
   "outputs": [
    {
     "name": "stdout",
     "output_type": "stream",
     "text": [
      "Integer: 42, Type: <class 'int'>\n",
      "Float: 3.14, Type: <class 'float'>\n",
      "Complex: (1+2j), Type: <class 'complex'>\n"
     ]
    }
   ],
   "source": [
    "# Numbers\n",
    "integer_num = 42\n",
    "float_num = 3.14\n",
    "complex_num = 1 + 2j\n",
    "\n",
    "print(f\"Integer: {integer_num}, Type: {type(integer_num)}\")\n",
    "print(f\"Float: {float_num}, Type: {type(float_num)}\")\n",
    "print(f\"Complex: {complex_num}, Type: {type(complex_num)}\")"
   ]
  },
  {
   "cell_type": "code",
   "execution_count": 4,
   "metadata": {},
   "outputs": [
    {
     "name": "stdout",
     "output_type": "stream",
     "text": [
      "String: Hello, Python!, Type: <class 'str'>\n",
      "String length: 14\n",
      "Uppercase: HELLO, PYTHON!\n",
      "Lowercase: hello, python!\n"
     ]
    }
   ],
   "source": [
    "# String\n",
    "text = \"Hello, Python!\"\n",
    "print(f\"String: {text}, Type: {type(text)}\")\n",
    "print(f\"String length: {len(text)}\")\n",
    "print(f\"Uppercase: {text.upper()}\")\n",
    "print(f\"Lowercase: {text.lower()}\")"
   ]
  },
  {
   "cell_type": "code",
   "execution_count": 1,
   "metadata": {},
   "outputs": [
    {
     "name": "stdout",
     "output_type": "stream",
     "text": [
      "True value: True, Type: <class 'bool'>\n",
      "False value: False, Type: <class 'bool'>\n"
     ]
    }
   ],
   "source": [
    "# boolean\n",
    "is_true = True\n",
    "is_false = False\n",
    "print(f\"True value: {is_true}, Type: {type(is_true)}\")\n",
    "print(f\"False value: {is_false}, Type: {type(is_false)}\")"
   ]
  },
  {
   "cell_type": "code",
   "execution_count": 2,
   "metadata": {},
   "outputs": [
    {
     "name": "stdout",
     "output_type": "stream",
     "text": [
      "List: [1, 2, 'three', 4.0, True], Type: <class 'list'>\n",
      "List length: 5\n",
      "First item: 1\n"
     ]
    }
   ],
   "source": [
    "# List (Mutable sequence)\n",
    "my_list = [1, 2, \"three\", 4.0, True]\n",
    "\n",
    "print(f\"List: {my_list}, Type: {type(my_list)}\")\n",
    "print(f\"List length: {len(my_list)}\")\n",
    "print(f\"First item: {my_list[0]}\")"
   ]
  },
  {
   "cell_type": "code",
   "execution_count": 3,
   "metadata": {},
   "outputs": [
    {
     "name": "stdout",
     "output_type": "stream",
     "text": [
      "After append: [1, 2, 'three', 4.0, True, 'new item']\n"
     ]
    }
   ],
   "source": [
    "my_list.append(\"new item\")\n",
    "print(f\"After append: {my_list}\")"
   ]
  },
  {
   "cell_type": "code",
   "execution_count": 4,
   "metadata": {},
   "outputs": [
    {
     "name": "stdout",
     "output_type": "stream",
     "text": [
      "Tuple: (1, 2, 'three', 4.0, True), Type: <class 'tuple'>\n",
      "Tuple length: 5\n",
      "First item: 1\n"
     ]
    }
   ],
   "source": [
    "# Tuple (Immutable sequence)\n",
    "my_tuple = (1, 2, \"three\", 4.0, True)\n",
    "\n",
    "print(f\"Tuple: {my_tuple}, Type: {type(my_tuple)}\")\n",
    "print(f\"Tuple length: {len(my_tuple)}\")\n",
    "print(f\"First item: {my_tuple[0]}\")"
   ]
  },
  {
   "cell_type": "code",
   "execution_count": 6,
   "metadata": {},
   "outputs": [
    {
     "name": "stdout",
     "output_type": "stream",
     "text": [
      "Dictionary: {'name': 'Python', 'version': 3.9, 'is_fun': True}, Type: <class 'dict'>\n",
      "Keys: dict_keys(['name', 'version', 'is_fun'])\n",
      "Values: dict_values(['Python', 3.9, True])\n",
      "Access by key 'name': Python\n"
     ]
    }
   ],
   "source": [
    "# Dictionary (Key-value pairs)\n",
    "my_dict = {\n",
    "    \"name\": \"Python\",\n",
    "    \"version\": 3.9,\n",
    "    \"is_fun\": True\n",
    "}\n",
    "\n",
    "print(f\"Dictionary: {my_dict}, Type: {type(my_dict)}\")\n",
    "print(f\"Keys: {my_dict.keys()}\")\n",
    "print(f\"Values: {my_dict.values()}\")\n",
    "print(f\"Access by key 'name': {my_dict['name']}\")"
   ]
  },
  {
   "cell_type": "markdown",
   "metadata": {},
   "source": [
    "# Operators in Python"
   ]
  },
  {
   "cell_type": "code",
   "execution_count": 7,
   "metadata": {},
   "outputs": [
    {
     "name": "stdout",
     "output_type": "stream",
     "text": [
      "a = 10, b = 3\n",
      "Addition: 13\n",
      "Subtraction: 7\n",
      "Multiplication: 30\n",
      "Division: 3.3333333333333335\n",
      "Floor Division: 3\n",
      "Modulus: 1\n",
      "Exponent: 1000\n"
     ]
    }
   ],
   "source": [
    "# Arithmetic Operators\n",
    "a = 10\n",
    "b = 3\n",
    "\n",
    "print(f\"a = {a}, b = {b}\")\n",
    "print(f\"Addition: {a + b}\")        # บวก\n",
    "print(f\"Subtraction: {a - b}\")     # ลบ  \n",
    "print(f\"Multiplication: {a * b}\")  # คูณ\n",
    "print(f\"Division: {a / b}\")        # หาร\n",
    "print(f\"Floor Division: {a // b}\") # หารปัดเศษลง\n",
    "print(f\"Modulus: {a % b}\")         # หารเอาเศษ\n",
    "print(f\"Exponent: {a ** b}\")       # ยกกำลัง"
   ]
  },
  {
   "cell_type": "code",
   "execution_count": 8,
   "metadata": {},
   "outputs": [
    {
     "name": "stdout",
     "output_type": "stream",
     "text": [
      "x = 5, y = 3\n",
      "Equal to: False\n",
      "Not equal to: True\n",
      "Greater than: True\n",
      "Less than: False\n",
      "Greater or equal: True\n",
      "Less or equal: False\n"
     ]
    }
   ],
   "source": [
    "# Comparison Operators \n",
    "x = 5\n",
    "y = 3\n",
    "\n",
    "print(f\"x = {x}, y = {y}\")\n",
    "print(f\"Equal to: {x == y}\")           # เท่ากับ\n",
    "print(f\"Not equal to: {x != y}\")       # ไม่เท่ากับ\n",
    "print(f\"Greater than: {x > y}\")        # มากกว่า\n",
    "print(f\"Less than: {x < y}\")           # น้อยกว่า\n",
    "print(f\"Greater or equal: {x >= y}\")   # มากกว่าหรือเท่ากับ\n",
    "print(f\"Less or equal: {x <= y}\")      # น้อยกว่าหรือเท่ากับ"
   ]
  },
  {
   "cell_type": "code",
   "execution_count": 9,
   "metadata": {},
   "outputs": [
    {
     "name": "stdout",
     "output_type": "stream",
     "text": [
      "p = True, q = False\n",
      "AND: False\n",
      "OR: True\n",
      "NOT p: False\n"
     ]
    }
   ],
   "source": [
    "# Logical Operators\n",
    "p = True\n",
    "q = False\n",
    "\n",
    "print(f\"p = {p}, q = {q}\")\n",
    "print(f\"AND: {p and q}\")   # และ\n",
    "print(f\"OR: {p or q}\")     # หรือ\n",
    "print(f\"NOT p: {not p}\")   # ไม่"
   ]
  },
  {
   "cell_type": "code",
   "execution_count": 11,
   "metadata": {},
   "outputs": [
    {
     "name": "stdout",
     "output_type": "stream",
     "text": [
      "Initial n = 5\n",
      "After n += 3: 8\n",
      "After n -= 2: 6\n",
      "After n *= 4: 24\n"
     ]
    }
   ],
   "source": [
    "# Assignment Operators\n",
    "\n",
    "n = 5\n",
    "print(f\"Initial n = {n}\")\n",
    "\n",
    "n += 3  # n = n + 3\n",
    "print(f\"After n += 3: {n}\")\n",
    "\n",
    "n -= 2  # n = n - 2\n",
    "print(f\"After n -= 2: {n}\")\n",
    "\n",
    "n *= 4  # n = n * 4\n",
    "print(f\"After n *= 4: {n}\")"
   ]
  },
  {
   "cell_type": "markdown",
   "metadata": {},
   "source": [
    "# Control Flow: if, elif, else"
   ]
  },
  {
   "cell_type": "code",
   "execution_count": 10,
   "metadata": {},
   "outputs": [
    {
     "name": "stdout",
     "output_type": "stream",
     "text": [
      "อายุ = 20\n",
      "คุณบรรลุนิติภาวะแล้ว\n"
     ]
    }
   ],
   "source": [
    "# ตัวอย่างที่ 1: if อย่างเดียว\n",
    "age = 20\n",
    "print(f\"อายุ = {age}\")\n",
    "if age >= 20:\n",
    "    print(\"คุณบรรลุนิติภาวะแล้ว\")"
   ]
  },
  {
   "cell_type": "code",
   "execution_count": 13,
   "metadata": {},
   "outputs": [
    {
     "name": "stdout",
     "output_type": "stream",
     "text": [
      "\n",
      "คะแนน = 75\n",
      "สอบผ่าน\n"
     ]
    }
   ],
   "source": [
    "# ตัวอย่างที่ 2: if-else\n",
    "score = 75\n",
    "print(f\"\\nคะแนน = {score}\")\n",
    "if score >= 50:\n",
    "    print(\"สอบผ่าน\")\n",
    "else:\n",
    "    print(\"สอบไม่ผ่าน\")"
   ]
  },
  {
   "cell_type": "code",
   "execution_count": 11,
   "metadata": {},
   "outputs": [
    {
     "name": "stdout",
     "output_type": "stream",
     "text": [
      "\n",
      "คะแนน = 85\n",
      "เกรด A\n"
     ]
    }
   ],
   "source": [
    "# ตัวอย่างที่ 3: if-elif-else\n",
    "grade = 85\n",
    "print(f\"\\nคะแนน = {grade}\")\n",
    "if grade >= 80:\n",
    "    print(\"เกรด A\")\n",
    "elif grade >= 70:\n",
    "    print(\"เกรด B\")\n",
    "elif grade >= 60:\n",
    "    print(\"เกรด C\")\n",
    "elif grade >= 50:\n",
    "    print(\"เกรด D\")\n",
    "else:\n",
    "    print(\"เกรด F\")"
   ]
  },
  {
   "cell_type": "code",
   "execution_count": 12,
   "metadata": {},
   "outputs": [
    {
     "name": "stdout",
     "output_type": "stream",
     "text": [
      "\n",
      "เงิน = 100, มีคูปอง = True\n",
      "สามารถซื้อสินค้าได้และใช้คูปองส่วนลด\n"
     ]
    }
   ],
   "source": [
    "# ตัวอย่างที่ 4: การซ้อน if (Nested if)\n",
    "money = 100\n",
    "has_coupon = True\n",
    "print(f\"\\nเงิน = {money}, มีคูปอง = {has_coupon}\")\n",
    "if money >= 50:\n",
    "    if has_coupon:\n",
    "        print(\"สามารถซื้อสินค้าได้และใช้คูปองส่วนลด\")\n",
    "    else:\n",
    "        print(\"สามารถซื้อสินค้าได้แต่ไม่มีส่วนลด\")\n",
    "else:\n",
    "    print(\"เงินไม่พอซื้อสินค้า\")"
   ]
  },
  {
   "cell_type": "markdown",
   "metadata": {},
   "source": [
    "# Function\n"
   ]
  },
  {
   "cell_type": "code",
   "execution_count": 13,
   "metadata": {},
   "outputs": [
    {
     "name": "stdout",
     "output_type": "stream",
     "text": [
      "Rectangle area: 15\n"
     ]
    }
   ],
   "source": [
    "# Example 2: Function with multiple parameters\n",
    "def calculate_rectangle_area(width, height):\n",
    "    area = width * height\n",
    "    return area\n",
    "\n",
    "print(f\"Rectangle area: {calculate_rectangle_area(5, 3)}\")  # Output: Rectangle area: 15"
   ]
  },
  {
   "cell_type": "code",
   "execution_count": 14,
   "metadata": {},
   "outputs": [
    {
     "data": {
      "text/plain": [
       "30"
      ]
     },
     "execution_count": 14,
     "metadata": {},
     "output_type": "execute_result"
    }
   ],
   "source": [
    "calculate_rectangle_area(5, 6)"
   ]
  },
  {
   "cell_type": "code",
   "execution_count": null,
   "metadata": {},
   "outputs": [],
   "source": []
  }
 ],
 "metadata": {
  "kernelspec": {
   "display_name": ".venv",
   "language": "python",
   "name": "python3"
  },
  "language_info": {
   "codemirror_mode": {
    "name": "ipython",
    "version": 3
   },
   "file_extension": ".py",
   "mimetype": "text/x-python",
   "name": "python",
   "nbconvert_exporter": "python",
   "pygments_lexer": "ipython3",
   "version": "3.11.9"
  }
 },
 "nbformat": 4,
 "nbformat_minor": 2
}
