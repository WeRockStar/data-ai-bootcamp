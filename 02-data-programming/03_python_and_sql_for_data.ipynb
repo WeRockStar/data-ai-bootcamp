{
 "cells": [
  {
   "cell_type": "markdown",
   "metadata": {},
   "source": [
    "# โจทย์: Automate SQL ได้ไหม?\n"
   ]
  },
  {
   "cell_type": "markdown",
   "metadata": {},
   "source": [
    "## SQLite with Python"
   ]
  },
  {
   "cell_type": "code",
   "execution_count": 1,
   "metadata": {},
   "outputs": [],
   "source": [
    "# เปลี่ยนจาก sqlite3 เป็น sqlalchemy\n",
    "from sqlalchemy import create_engine, text\n",
    "\n",
    "# สร้าง engine แทนการใช้ connect โดยตรง\n",
    "engine = create_engine('sqlite:///mysqlite01.db')"
   ]
  },
  {
   "cell_type": "code",
   "execution_count": 3,
   "metadata": {},
   "outputs": [
    {
     "data": {
      "text/plain": [
       "Engine(sqlite:///mysqlite01.db)"
      ]
     },
     "execution_count": 3,
     "metadata": {},
     "output_type": "execute_result"
    }
   ],
   "source": [
    "engine"
   ]
  },
  {
   "cell_type": "code",
   "execution_count": 4,
   "metadata": {},
   "outputs": [],
   "source": [
    "\n",
    "# สร้างตาราง products ด้วย engine.execute\n",
    "with engine.connect() as conn:\n",
    "    conn.execute(text('''\n",
    "    CREATE TABLE IF NOT EXISTS products (\n",
    "        product_id INTEGER PRIMARY KEY,\n",
    "        name TEXT NOT NULL,\n",
    "        price REAL NOT NULL,\n",
    "        category TEXT\n",
    "    )\n",
    "    '''))\n",
    "\n",
    "    # สร้างตาราง orders\n",
    "    conn.execute(text('''\n",
    "    CREATE TABLE IF NOT EXISTS orders (\n",
    "        order_id INTEGER PRIMARY KEY,\n",
    "        product_id INTEGER,\n",
    "        quantity INTEGER,\n",
    "        order_date TEXT\n",
    "    )\n",
    "    '''))"
   ]
  },
  {
   "cell_type": "code",
   "execution_count": 5,
   "metadata": {},
   "outputs": [],
   "source": [
    "with engine.connect() as conn:\n",
    "    # เพิ่มข้อมูลในตาราง products\n",
    "    conn.execute(text('''\n",
    "        INSERT INTO products (name, price, category)\n",
    "        VALUES ('iPhone 14', 35900, 'Electronics')\n",
    "    '''))\n",
    "    \n",
    "    # เพิ่มข้อมูลในตาราง orders \n",
    "    conn.execute(text('''\n",
    "        INSERT INTO orders (product_id, quantity, order_date)\n",
    "        VALUES (1, 2, '2023-10-20')\n",
    "    '''))\n",
    "    \n",
    "    conn.commit()"
   ]
  },
  {
   "cell_type": "markdown",
   "metadata": {},
   "source": [
    "## Faker"
   ]
  },
  {
   "cell_type": "code",
   "execution_count": 6,
   "metadata": {},
   "outputs": [
    {
     "data": {
      "text/plain": [
       "{'name': 'AirPods', 'price': 647, 'category': 'Books'}"
      ]
     },
     "execution_count": 6,
     "metadata": {},
     "output_type": "execute_result"
    }
   ],
   "source": [
    "from faker import Faker\n",
    "\n",
    "# สร้าง Faker object สำหรับภาษาไทย\n",
    "fake = Faker()\n",
    "\n",
    "fake_data = {\n",
    "    \"name\": fake.random_element(elements=(\"iPhone\", \"iPad\", \"MacBook\", \"AirPods\")),\n",
    "    \"price\": fake.random_int(min=100, max=50000),\n",
    "    \"category\": fake.random_element(\n",
    "        elements=(\"Electronics\", \"Clothing\", \"Food\", \"Books\")\n",
    "    ),\n",
    "}\n",
    "fake_data"
   ]
  },
  {
   "cell_type": "markdown",
   "metadata": {},
   "source": [
    "## Faker + SQLite"
   ]
  },
  {
   "cell_type": "code",
   "execution_count": 12,
   "metadata": {},
   "outputs": [
    {
     "data": {
      "text/plain": [
       "{'name': 'iPhone', 'price': 46210, 'category': 'Electronics'}"
      ]
     },
     "execution_count": 12,
     "metadata": {},
     "output_type": "execute_result"
    }
   ],
   "source": [
    "# สร้างข้อมูลปลอมด้วย Faker\n",
    "fake_product = {\n",
    "    \"name\": fake.random_element(elements=(\"iPhone\", \"iPad\", \"MacBook\", \"AirPods\")),\n",
    "    \"price\": fake.random_int(min=100, max=50000), \n",
    "    \"category\": fake.random_element(elements=(\"Electronics\", \"Clothing\", \"Food\", \"Books\"))\n",
    "}\n",
    "fake_product"
   ]
  },
  {
   "cell_type": "code",
   "execution_count": 13,
   "metadata": {},
   "outputs": [],
   "source": [
    "# เพิ่มข้อมูลลงใน SQLite\n",
    "with engine.connect() as conn:\n",
    "    conn.execute(text('''\n",
    "        INSERT INTO products (name, price, category)\n",
    "        VALUES (:name, :price, :category)\n",
    "    '''), fake_product)\n",
    "    conn.commit()"
   ]
  },
  {
   "cell_type": "markdown",
   "metadata": {},
   "source": [
    "## Pandas"
   ]
  },
  {
   "cell_type": "code",
   "execution_count": 15,
   "metadata": {},
   "outputs": [],
   "source": [
    "import pandas as pd"
   ]
  },
  {
   "cell_type": "markdown",
   "metadata": {},
   "source": [
    "table (dataframe) = index + column + data\n",
    "\n",
    "|index|column1|column2|column3|\n",
    "|---|---|---|---|\n",
    "|0|data01|data02|data03|\n",
    "|1|data11|data12|data13|"
   ]
  },
  {
   "cell_type": "code",
   "execution_count": 16,
   "metadata": {},
   "outputs": [
    {
     "data": {
      "text/html": [
       "<div>\n",
       "<style scoped>\n",
       "    .dataframe tbody tr th:only-of-type {\n",
       "        vertical-align: middle;\n",
       "    }\n",
       "\n",
       "    .dataframe tbody tr th {\n",
       "        vertical-align: top;\n",
       "    }\n",
       "\n",
       "    .dataframe thead th {\n",
       "        text-align: right;\n",
       "    }\n",
       "</style>\n",
       "<table border=\"1\" class=\"dataframe\">\n",
       "  <thead>\n",
       "    <tr style=\"text-align: right;\">\n",
       "      <th></th>\n",
       "      <th>name</th>\n",
       "      <th>age</th>\n",
       "      <th>city</th>\n",
       "    </tr>\n",
       "  </thead>\n",
       "  <tbody>\n",
       "    <tr>\n",
       "      <th>0</th>\n",
       "      <td>สมชาย</td>\n",
       "      <td>25</td>\n",
       "      <td>กรุงเทพ</td>\n",
       "    </tr>\n",
       "    <tr>\n",
       "      <th>1</th>\n",
       "      <td>สมหญิง</td>\n",
       "      <td>30</td>\n",
       "      <td>เชียงใหม่</td>\n",
       "    </tr>\n",
       "    <tr>\n",
       "      <th>2</th>\n",
       "      <td>สมศรี</td>\n",
       "      <td>35</td>\n",
       "      <td>ภูเก็ต</td>\n",
       "    </tr>\n",
       "  </tbody>\n",
       "</table>\n",
       "</div>"
      ],
      "text/plain": [
       "     name  age       city\n",
       "0   สมชาย   25    กรุงเทพ\n",
       "1  สมหญิง   30  เชียงใหม่\n",
       "2   สมศรี   35     ภูเก็ต"
      ]
     },
     "execution_count": 16,
     "metadata": {},
     "output_type": "execute_result"
    }
   ],
   "source": [
    "# สร้าง DataFrame จากข้อมูลพื้นฐาน\n",
    "data = {\n",
    "    'name': ['สมชาย', 'สมหญิง', 'สมศรี'],\n",
    "    'age': [25, 30, 35],\n",
    "    'city': ['กรุงเทพ', 'เชียงใหม่', 'ภูเก็ต']\n",
    "}\n",
    "df = pd.DataFrame(data)\n",
    "df"
   ]
  },
  {
   "cell_type": "code",
   "execution_count": 17,
   "metadata": {},
   "outputs": [
    {
     "data": {
      "text/html": [
       "<div>\n",
       "<style scoped>\n",
       "    .dataframe tbody tr th:only-of-type {\n",
       "        vertical-align: middle;\n",
       "    }\n",
       "\n",
       "    .dataframe tbody tr th {\n",
       "        vertical-align: top;\n",
       "    }\n",
       "\n",
       "    .dataframe thead th {\n",
       "        text-align: right;\n",
       "    }\n",
       "</style>\n",
       "<table border=\"1\" class=\"dataframe\">\n",
       "  <thead>\n",
       "    <tr style=\"text-align: right;\">\n",
       "      <th></th>\n",
       "      <th>player</th>\n",
       "      <th>team</th>\n",
       "    </tr>\n",
       "  </thead>\n",
       "  <tbody>\n",
       "    <tr>\n",
       "      <th>0</th>\n",
       "      <td>LeBron James</td>\n",
       "      <td>Lakers</td>\n",
       "    </tr>\n",
       "    <tr>\n",
       "      <th>1</th>\n",
       "      <td>Kevin Durant</td>\n",
       "      <td>Nets</td>\n",
       "    </tr>\n",
       "    <tr>\n",
       "      <th>2</th>\n",
       "      <td>Stephen Curry</td>\n",
       "      <td>Warriors</td>\n",
       "    </tr>\n",
       "  </tbody>\n",
       "</table>\n",
       "</div>"
      ],
      "text/plain": [
       "          player      team\n",
       "0   LeBron James    Lakers\n",
       "1   Kevin Durant      Nets\n",
       "2  Stephen Curry  Warriors"
      ]
     },
     "execution_count": 17,
     "metadata": {},
     "output_type": "execute_result"
    }
   ],
   "source": [
    "demo = {\n",
    "    \"player\": [\"LeBron James\", \"Kevin Durant\", \"Stephen Curry\"],\n",
    "    \"team\": [\"Lakers\", \"Nets\", \"Warriors\"],\n",
    "}\n",
    "demo_df = pd.DataFrame(demo)\n",
    "demo_df"
   ]
  },
  {
   "cell_type": "code",
   "execution_count": 22,
   "metadata": {},
   "outputs": [
    {
     "data": {
      "text/plain": [
       "0     สมชาย\n",
       "1    สมหญิง\n",
       "2     สมศรี\n",
       "Name: name, dtype: object"
      ]
     },
     "execution_count": 22,
     "metadata": {},
     "output_type": "execute_result"
    }
   ],
   "source": [
    "name_series = df[\"name\"]\n",
    "name_series"
   ]
  },
  {
   "cell_type": "code",
   "execution_count": 23,
   "metadata": {},
   "outputs": [
    {
     "data": {
      "text/plain": [
       "0    25\n",
       "1    30\n",
       "2    35\n",
       "Name: age, dtype: int64"
      ]
     },
     "execution_count": 23,
     "metadata": {},
     "output_type": "execute_result"
    }
   ],
   "source": [
    "age_series = df[\"age\"]\n",
    "age_series"
   ]
  },
  {
   "cell_type": "code",
   "execution_count": 24,
   "metadata": {},
   "outputs": [
    {
     "name": "stdout",
     "output_type": "stream",
     "text": [
      "<class 'pandas.core.frame.DataFrame'>\n",
      "RangeIndex: 3 entries, 0 to 2\n",
      "Data columns (total 3 columns):\n",
      " #   Column  Non-Null Count  Dtype \n",
      "---  ------  --------------  ----- \n",
      " 0   name    3 non-null      object\n",
      " 1   age     3 non-null      int64 \n",
      " 2   city    3 non-null      object\n",
      "dtypes: int64(1), object(2)\n",
      "memory usage: 204.0+ bytes\n"
     ]
    }
   ],
   "source": [
    "df.info()"
   ]
  },
  {
   "cell_type": "code",
   "execution_count": 25,
   "metadata": {},
   "outputs": [
    {
     "data": {
      "text/html": [
       "<div>\n",
       "<style scoped>\n",
       "    .dataframe tbody tr th:only-of-type {\n",
       "        vertical-align: middle;\n",
       "    }\n",
       "\n",
       "    .dataframe tbody tr th {\n",
       "        vertical-align: top;\n",
       "    }\n",
       "\n",
       "    .dataframe thead th {\n",
       "        text-align: right;\n",
       "    }\n",
       "</style>\n",
       "<table border=\"1\" class=\"dataframe\">\n",
       "  <thead>\n",
       "    <tr style=\"text-align: right;\">\n",
       "      <th></th>\n",
       "      <th>age</th>\n",
       "    </tr>\n",
       "  </thead>\n",
       "  <tbody>\n",
       "    <tr>\n",
       "      <th>count</th>\n",
       "      <td>3.0</td>\n",
       "    </tr>\n",
       "    <tr>\n",
       "      <th>mean</th>\n",
       "      <td>30.0</td>\n",
       "    </tr>\n",
       "    <tr>\n",
       "      <th>std</th>\n",
       "      <td>5.0</td>\n",
       "    </tr>\n",
       "    <tr>\n",
       "      <th>min</th>\n",
       "      <td>25.0</td>\n",
       "    </tr>\n",
       "    <tr>\n",
       "      <th>25%</th>\n",
       "      <td>27.5</td>\n",
       "    </tr>\n",
       "    <tr>\n",
       "      <th>50%</th>\n",
       "      <td>30.0</td>\n",
       "    </tr>\n",
       "    <tr>\n",
       "      <th>75%</th>\n",
       "      <td>32.5</td>\n",
       "    </tr>\n",
       "    <tr>\n",
       "      <th>max</th>\n",
       "      <td>35.0</td>\n",
       "    </tr>\n",
       "  </tbody>\n",
       "</table>\n",
       "</div>"
      ],
      "text/plain": [
       "        age\n",
       "count   3.0\n",
       "mean   30.0\n",
       "std     5.0\n",
       "min    25.0\n",
       "25%    27.5\n",
       "50%    30.0\n",
       "75%    32.5\n",
       "max    35.0"
      ]
     },
     "execution_count": 25,
     "metadata": {},
     "output_type": "execute_result"
    }
   ],
   "source": [
    "# แสดงข้อมูลเบื้องต้นของ DataFrame\n",
    "df.describe()"
   ]
  },
  {
   "cell_type": "code",
   "execution_count": null,
   "metadata": {},
   "outputs": [],
   "source": [
    "# Python สามารถนำไปวิเคราะห์ข้อมูลต่อได้"
   ]
  },
  {
   "cell_type": "markdown",
   "metadata": {},
   "source": [
    "## Pandas + SQLite"
   ]
  },
  {
   "cell_type": "code",
   "execution_count": 26,
   "metadata": {},
   "outputs": [
    {
     "data": {
      "text/html": [
       "<div>\n",
       "<style scoped>\n",
       "    .dataframe tbody tr th:only-of-type {\n",
       "        vertical-align: middle;\n",
       "    }\n",
       "\n",
       "    .dataframe tbody tr th {\n",
       "        vertical-align: top;\n",
       "    }\n",
       "\n",
       "    .dataframe thead th {\n",
       "        text-align: right;\n",
       "    }\n",
       "</style>\n",
       "<table border=\"1\" class=\"dataframe\">\n",
       "  <thead>\n",
       "    <tr style=\"text-align: right;\">\n",
       "      <th></th>\n",
       "      <th>name</th>\n",
       "      <th>age</th>\n",
       "      <th>city</th>\n",
       "    </tr>\n",
       "  </thead>\n",
       "  <tbody>\n",
       "    <tr>\n",
       "      <th>0</th>\n",
       "      <td>สมชาย</td>\n",
       "      <td>25</td>\n",
       "      <td>กรุงเทพ</td>\n",
       "    </tr>\n",
       "    <tr>\n",
       "      <th>1</th>\n",
       "      <td>สมหญิง</td>\n",
       "      <td>30</td>\n",
       "      <td>เชียงใหม่</td>\n",
       "    </tr>\n",
       "    <tr>\n",
       "      <th>2</th>\n",
       "      <td>สมศรี</td>\n",
       "      <td>35</td>\n",
       "      <td>ภูเก็ต</td>\n",
       "    </tr>\n",
       "  </tbody>\n",
       "</table>\n",
       "</div>"
      ],
      "text/plain": [
       "     name  age       city\n",
       "0   สมชาย   25    กรุงเทพ\n",
       "1  สมหญิง   30  เชียงใหม่\n",
       "2   สมศรี   35     ภูเก็ต"
      ]
     },
     "execution_count": 26,
     "metadata": {},
     "output_type": "execute_result"
    }
   ],
   "source": [
    "data = {\n",
    "    'name': ['สมชาย', 'สมหญิง', 'สมศรี'],\n",
    "    'age': [25, 30, 35],\n",
    "    'city': ['กรุงเทพ', 'เชียงใหม่', 'ภูเก็ต']\n",
    "}\n",
    "df = pd.DataFrame(data)\n",
    "df"
   ]
  },
  {
   "cell_type": "code",
   "execution_count": 27,
   "metadata": {},
   "outputs": [
    {
     "data": {
      "text/plain": [
       "3"
      ]
     },
     "execution_count": 27,
     "metadata": {},
     "output_type": "execute_result"
    }
   ],
   "source": [
    "df.to_sql('people', engine, if_exists='append', index=False)"
   ]
  },
  {
   "cell_type": "markdown",
   "metadata": {},
   "source": [
    "## Pandas + SQLite + Faker"
   ]
  },
  {
   "cell_type": "code",
   "execution_count": 28,
   "metadata": {},
   "outputs": [
    {
     "data": {
      "text/html": [
       "<div>\n",
       "<style scoped>\n",
       "    .dataframe tbody tr th:only-of-type {\n",
       "        vertical-align: middle;\n",
       "    }\n",
       "\n",
       "    .dataframe tbody tr th {\n",
       "        vertical-align: top;\n",
       "    }\n",
       "\n",
       "    .dataframe thead th {\n",
       "        text-align: right;\n",
       "    }\n",
       "</style>\n",
       "<table border=\"1\" class=\"dataframe\">\n",
       "  <thead>\n",
       "    <tr style=\"text-align: right;\">\n",
       "      <th></th>\n",
       "      <th>name</th>\n",
       "      <th>price</th>\n",
       "      <th>category</th>\n",
       "    </tr>\n",
       "  </thead>\n",
       "  <tbody>\n",
       "    <tr>\n",
       "      <th>0</th>\n",
       "      <td>iPhone</td>\n",
       "      <td>29890</td>\n",
       "      <td>Electronics</td>\n",
       "    </tr>\n",
       "    <tr>\n",
       "      <th>1</th>\n",
       "      <td>iPhone</td>\n",
       "      <td>8568</td>\n",
       "      <td>Books</td>\n",
       "    </tr>\n",
       "    <tr>\n",
       "      <th>2</th>\n",
       "      <td>iPhone</td>\n",
       "      <td>19953</td>\n",
       "      <td>Food</td>\n",
       "    </tr>\n",
       "    <tr>\n",
       "      <th>3</th>\n",
       "      <td>iPad</td>\n",
       "      <td>33782</td>\n",
       "      <td>Food</td>\n",
       "    </tr>\n",
       "    <tr>\n",
       "      <th>4</th>\n",
       "      <td>MacBook</td>\n",
       "      <td>28397</td>\n",
       "      <td>Food</td>\n",
       "    </tr>\n",
       "    <tr>\n",
       "      <th>...</th>\n",
       "      <td>...</td>\n",
       "      <td>...</td>\n",
       "      <td>...</td>\n",
       "    </tr>\n",
       "    <tr>\n",
       "      <th>95</th>\n",
       "      <td>iPhone</td>\n",
       "      <td>23185</td>\n",
       "      <td>Books</td>\n",
       "    </tr>\n",
       "    <tr>\n",
       "      <th>96</th>\n",
       "      <td>iPhone</td>\n",
       "      <td>26386</td>\n",
       "      <td>Food</td>\n",
       "    </tr>\n",
       "    <tr>\n",
       "      <th>97</th>\n",
       "      <td>MacBook</td>\n",
       "      <td>45343</td>\n",
       "      <td>Electronics</td>\n",
       "    </tr>\n",
       "    <tr>\n",
       "      <th>98</th>\n",
       "      <td>MacBook</td>\n",
       "      <td>10401</td>\n",
       "      <td>Clothing</td>\n",
       "    </tr>\n",
       "    <tr>\n",
       "      <th>99</th>\n",
       "      <td>AirPods</td>\n",
       "      <td>41023</td>\n",
       "      <td>Electronics</td>\n",
       "    </tr>\n",
       "  </tbody>\n",
       "</table>\n",
       "<p>100 rows × 3 columns</p>\n",
       "</div>"
      ],
      "text/plain": [
       "       name  price     category\n",
       "0    iPhone  29890  Electronics\n",
       "1    iPhone   8568        Books\n",
       "2    iPhone  19953         Food\n",
       "3      iPad  33782         Food\n",
       "4   MacBook  28397         Food\n",
       "..      ...    ...          ...\n",
       "95   iPhone  23185        Books\n",
       "96   iPhone  26386         Food\n",
       "97  MacBook  45343  Electronics\n",
       "98  MacBook  10401     Clothing\n",
       "99  AirPods  41023  Electronics\n",
       "\n",
       "[100 rows x 3 columns]"
      ]
     },
     "execution_count": 28,
     "metadata": {},
     "output_type": "execute_result"
    }
   ],
   "source": [
    "# สร้างข้อมูลปลอมด้วย Faker\n",
    "products = []   \n",
    "for _ in range(100):\n",
    "    product = {\n",
    "        \"name\": fake.random_element(elements=(\"iPhone\", \"iPad\", \"MacBook\", \"AirPods\")),\n",
    "    \"price\": fake.random_int(min=100, max=50000), \n",
    "        \"category\": fake.random_element(elements=(\"Electronics\", \"Clothing\", \"Food\", \"Books\"))\n",
    "    }\n",
    "    products.append(product)\n",
    "\n",
    "# สร้าง DataFrame สำหรับสินค้า\n",
    "df_products = pd.DataFrame(products)\n",
    "df_products"
   ]
  },
  {
   "cell_type": "code",
   "execution_count": 29,
   "metadata": {},
   "outputs": [
    {
     "data": {
      "text/plain": [
       "100"
      ]
     },
     "execution_count": 29,
     "metadata": {},
     "output_type": "execute_result"
    }
   ],
   "source": [
    "df_products.to_sql('products', engine, if_exists='append', index=False)"
   ]
  },
  {
   "cell_type": "markdown",
   "metadata": {},
   "source": [
    "## Challege: สร้างข้อมูลลูกค้าโดยใช้ Faker และ Pandas และเพิ่มลงใน SQLite ทุก 5 วินาที"
   ]
  },
  {
   "cell_type": "code",
   "execution_count": 30,
   "metadata": {},
   "outputs": [
    {
     "data": {
      "text/html": [
       "<div>\n",
       "<style scoped>\n",
       "    .dataframe tbody tr th:only-of-type {\n",
       "        vertical-align: middle;\n",
       "    }\n",
       "\n",
       "    .dataframe tbody tr th {\n",
       "        vertical-align: top;\n",
       "    }\n",
       "\n",
       "    .dataframe thead th {\n",
       "        text-align: right;\n",
       "    }\n",
       "</style>\n",
       "<table border=\"1\" class=\"dataframe\">\n",
       "  <thead>\n",
       "    <tr style=\"text-align: right;\">\n",
       "      <th></th>\n",
       "      <th>customer_id</th>\n",
       "      <th>name</th>\n",
       "      <th>email</th>\n",
       "      <th>phone</th>\n",
       "      <th>address</th>\n",
       "      <th>segment</th>\n",
       "      <th>join_date</th>\n",
       "      <th>loyalty_points</th>\n",
       "    </tr>\n",
       "  </thead>\n",
       "  <tbody>\n",
       "    <tr>\n",
       "      <th>0</th>\n",
       "      <td>8d78ea32-9c18-4db7-87d8-d460e8eece99</td>\n",
       "      <td>Shawn Cox</td>\n",
       "      <td>cbrown@example.com</td>\n",
       "      <td>(436)350-8558x55775</td>\n",
       "      <td>505 Sandoval Isle\\nKimberlyton, MA 02703</td>\n",
       "      <td>In-Store</td>\n",
       "      <td>2024-11-30 10:35:45.984406+07:00</td>\n",
       "      <td>208</td>\n",
       "    </tr>\n",
       "    <tr>\n",
       "      <th>1</th>\n",
       "      <td>70cc96ab-a1be-4681-8390-452241371a55</td>\n",
       "      <td>Shannon Sutton</td>\n",
       "      <td>kevinreynolds@example.com</td>\n",
       "      <td>777.524.5014</td>\n",
       "      <td>8452 Wilson Knoll Apt. 612\\nPort Kennethside, ...</td>\n",
       "      <td>In-Store</td>\n",
       "      <td>2024-11-30 10:35:45.985209+07:00</td>\n",
       "      <td>43</td>\n",
       "    </tr>\n",
       "  </tbody>\n",
       "</table>\n",
       "</div>"
      ],
      "text/plain": [
       "                            customer_id            name  \\\n",
       "0  8d78ea32-9c18-4db7-87d8-d460e8eece99       Shawn Cox   \n",
       "1  70cc96ab-a1be-4681-8390-452241371a55  Shannon Sutton   \n",
       "\n",
       "                       email                phone  \\\n",
       "0         cbrown@example.com  (436)350-8558x55775   \n",
       "1  kevinreynolds@example.com         777.524.5014   \n",
       "\n",
       "                                             address   segment  \\\n",
       "0           505 Sandoval Isle\\nKimberlyton, MA 02703  In-Store   \n",
       "1  8452 Wilson Knoll Apt. 612\\nPort Kennethside, ...  In-Store   \n",
       "\n",
       "                         join_date  loyalty_points  \n",
       "0 2024-11-30 10:35:45.984406+07:00             208  \n",
       "1 2024-11-30 10:35:45.985209+07:00              43  "
      ]
     },
     "execution_count": 30,
     "metadata": {},
     "output_type": "execute_result"
    }
   ],
   "source": [
    "# faker to df\n",
    "import faker\n",
    "import pandas as pd\n",
    "import time\n",
    "import pendulum\n",
    "\n",
    "# สร้าง Faker object สำหรับสร้างข้อมูลปลอม\n",
    "fake = faker.Faker()\n",
    "def generate_customers(num_customers):\n",
    "    customers = []\n",
    "    for _ in range(num_customers):  # สร้าง 5 รายการ\n",
    "        customer = {\n",
    "            'customer_id': fake.uuid4(),\n",
    "            'name': fake.name(),\n",
    "            'email': fake.email(), \n",
    "            'phone': fake.phone_number(),\n",
    "            'address': fake.address(),\n",
    "            'segment': fake.random_element(['Retail', 'Wholesale', 'Online', 'In-Store']),\n",
    "            'join_date': pendulum.now('Asia/Bangkok'),\n",
    "            'loyalty_points': fake.random_int(min=0, max=1000)\n",
    "        }\n",
    "        customers.append(customer)\n",
    "    return customers\n",
    "customers = generate_customers(2)\n",
    "customer_df = pd.DataFrame(customers)\n",
    "customer_df"
   ]
  },
  {
   "cell_type": "code",
   "execution_count": 31,
   "metadata": {},
   "outputs": [],
   "source": [
    "for _ in range(100):\n",
    "    customers = generate_customers(1)\n",
    "    customer_df = pd.DataFrame(customers)\n",
    "    customer_df.to_sql('customers', engine, if_exists='append', index=False)\n",
    "    time.sleep(5)"
   ]
  },
  {
   "cell_type": "code",
   "execution_count": null,
   "metadata": {},
   "outputs": [],
   "source": [
    "# df to sqlite\n",
    "\n",
    "# เปลี่ยนจาก sqlite3 เป็น sqlalchemy\n",
    "from sqlalchemy import create_engine, text\n",
    "\n",
    "# สร้าง engine แทนการใช้ connect โดยตรง\n",
    "engine = create_engine('sqlite:///mysqlite01.db')\n",
    "\n",
    "# สร้างข้อมูลลูกค้า\n",
    "while True:\n",
    "    customers = generate_customers(5)\n",
    "    customer_df = pd.DataFrame(customers)\n",
    "    customer_df.to_sql('customers', engine, if_exists='append', index=False)\n",
    "    print(f\"Created {len(customers)} customers at {time.strftime('%H:%M:%S')}\")\n",
    "    time.sleep(5)"
   ]
  },
  {
   "cell_type": "markdown",
   "metadata": {},
   "source": [
    "## Final App"
   ]
  },
  {
   "cell_type": "code",
   "execution_count": null,
   "metadata": {},
   "outputs": [],
   "source": [
    "import faker\n",
    "import pandas as pd\n",
    "import time\n",
    "# เปลี่ยนจาก sqlite3 เป็น sqlalchemy\n",
    "from sqlalchemy import create_engine, text\n",
    "\n",
    "# สร้าง engine แทนการใช้ connect โดยตรง\n",
    "engine = create_engine('sqlite:///mysqlite01.db')\n",
    "# สร้าง Faker object สำหรับสร้างข้อมูลปลอม\n",
    "fake = faker.Faker()\n",
    "\n",
    "def generate_customers(num_customers):\n",
    "    customers = []\n",
    "    for _ in range(num_customers):  # สร้าง 5 รายการ\n",
    "        customer = {\n",
    "            'customer_id': fake.uuid4(),\n",
    "            'name': fake.name(),\n",
    "            'email': fake.email(), \n",
    "            'phone': fake.phone_number(),\n",
    "            'address': fake.address(),\n",
    "            'segment': fake.random_element(['Retail', 'Wholesale', 'Online', 'In-Store']),\n",
    "            'join_date': pendulum.now('Asia/Bangkok'),\n",
    "            'loyalty_points': fake.random_int(min=0, max=1000)\n",
    "        }\n",
    "        customers.append(customer)\n",
    "    return customers\n",
    "\n",
    "# สร้างข้อมูลลูกค้า\n",
    "while True:\n",
    "    customers = generate_customers(5)\n",
    "    customer_df = pd.DataFrame(customers)\n",
    "    customer_df.to_sql('customers', engine, if_exists='append', index=False)\n",
    "    print(f\"Created {len(customers)} customers at {time.strftime('%H:%M:%S')}\")\n",
    "    time.sleep(5)"
   ]
  },
  {
   "cell_type": "code",
   "execution_count": null,
   "metadata": {},
   "outputs": [],
   "source": [
    "# Python สามารถ generate data เข้า database แบบ realtime ได้แล้ว"
   ]
  },
  {
   "cell_type": "markdown",
   "metadata": {},
   "source": [
    "## Congratulation!!"
   ]
  }
 ],
 "metadata": {
  "kernelspec": {
   "display_name": ".venv",
   "language": "python",
   "name": "python3"
  },
  "language_info": {
   "codemirror_mode": {
    "name": "ipython",
    "version": 3
   },
   "file_extension": ".py",
   "mimetype": "text/x-python",
   "name": "python",
   "nbconvert_exporter": "python",
   "pygments_lexer": "ipython3",
   "version": "3.11.9"
  }
 },
 "nbformat": 4,
 "nbformat_minor": 2
}
