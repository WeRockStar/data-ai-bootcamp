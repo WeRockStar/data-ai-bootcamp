{
 "cells": [
  {
   "cell_type": "code",
   "execution_count": 1,
   "metadata": {},
   "outputs": [],
   "source": [
    "import os\n",
    "from dotenv import load_dotenv\n",
    "\n",
    "_ = load_dotenv(override=True)"
   ]
  },
  {
   "cell_type": "code",
   "execution_count": 2,
   "metadata": {},
   "outputs": [
    {
     "data": {
      "text/plain": [
       "'../../04-data-pipeline-with-apache-airflow/cred/sa.json'"
      ]
     },
     "execution_count": 2,
     "metadata": {},
     "output_type": "execute_result"
    }
   ],
   "source": [
    "# to check\n",
    "os.getenv(\"GOOGLE_APPLICATION_CREDENTIALS\")"
   ]
  },
  {
   "cell_type": "code",
   "execution_count": 3,
   "metadata": {},
   "outputs": [],
   "source": [
    "from google.cloud import bigquery\n",
    "\n",
    "# สร้าง client object สำหรับเชื่อมต่อกับ BigQuery\n",
    "client = bigquery.Client()"
   ]
  },
  {
   "cell_type": "code",
   "execution_count": 4,
   "metadata": {},
   "outputs": [],
   "source": [
    "PROJECT_ID = \"dataaibootcamp-443306\"\n",
    "DATASET_ID = \"dataai_werockstar_007\" # change dataset name"
   ]
  },
  {
   "cell_type": "code",
   "execution_count": 5,
   "metadata": {},
   "outputs": [
    {
     "name": "stdout",
     "output_type": "stream",
     "text": [
      "ชื่อ: James, จำนวนคน: 272,793\n",
      "ชื่อ: John, จำนวนคน: 235,139\n",
      "ชื่อ: Michael, จำนวนคน: 225,320\n",
      "ชื่อ: Robert, จำนวนคน: 220,399\n",
      "ชื่อ: David, จำนวนคน: 219,028\n",
      "ชื่อ: Mary, จำนวนคน: 209,893\n",
      "ชื่อ: William, จำนวนคน: 173,092\n",
      "ชื่อ: Jose, จำนวนคน: 157,362\n",
      "ชื่อ: Christopher, จำนวนคน: 144,196\n",
      "ชื่อ: Maria, จำนวนคน: 131,056\n"
     ]
    }
   ],
   "source": [
    "# read data from bigquery\n",
    "query = \"\"\"\n",
    "    SELECT name, SUM(number) as total_people\n",
    "    FROM `bigquery-public-data.usa_names.usa_1910_2013`\n",
    "    WHERE state = 'TX'\n",
    "    GROUP BY name\n",
    "    ORDER BY total_people DESC\n",
    "    LIMIT 10\n",
    "\"\"\"\n",
    "query_job = client.query(query)\n",
    "\n",
    "for row in query_job:\n",
    "    print(f\"ชื่อ: {row.name}, จำนวนคน: {row.total_people:,}\")"
   ]
  },
  {
   "cell_type": "code",
   "execution_count": 6,
   "metadata": {},
   "outputs": [
    {
     "name": "stdout",
     "output_type": "stream",
     "text": [
      "Row((19, 111400, 1700, 2, 2, 1, True, 'East'), {'Home': 0, 'Price': 1, 'SqFt': 2, 'Bedrooms': 3, 'Bathrooms': 4, 'Offers': 5, 'Brick': 6, 'Neighborhood': 7})\n",
      "Row((41, 106600, 1560, 2, 2, 1, False, 'East'), {'Home': 0, 'Price': 1, 'SqFt': 2, 'Bedrooms': 3, 'Bathrooms': 4, 'Offers': 5, 'Brick': 6, 'Neighborhood': 7})\n",
      "Row((66, 111100, 1450, 2, 2, 1, True, 'North'), {'Home': 0, 'Price': 1, 'SqFt': 2, 'Bedrooms': 3, 'Bathrooms': 4, 'Offers': 5, 'Brick': 6, 'Neighborhood': 7})\n",
      "Row((83, 164800, 2050, 2, 2, 1, True, 'West'), {'Home': 0, 'Price': 1, 'SqFt': 2, 'Bedrooms': 3, 'Bathrooms': 4, 'Offers': 5, 'Brick': 6, 'Neighborhood': 7})\n",
      "Row((96, 152500, 1970, 2, 2, 1, True, 'West'), {'Home': 0, 'Price': 1, 'SqFt': 2, 'Bedrooms': 3, 'Bathrooms': 4, 'Offers': 5, 'Brick': 6, 'Neighborhood': 7})\n",
      "Row((98, 126800, 2000, 2, 2, 1, True, 'East'), {'Home': 0, 'Price': 1, 'SqFt': 2, 'Bedrooms': 3, 'Bathrooms': 4, 'Offers': 5, 'Brick': 6, 'Neighborhood': 7})\n",
      "Row((111, 111600, 1710, 2, 2, 1, False, 'North'), {'Home': 0, 'Price': 1, 'SqFt': 2, 'Bedrooms': 3, 'Bathrooms': 4, 'Offers': 5, 'Brick': 6, 'Neighborhood': 7})\n",
      "Row((123, 144800, 2060, 2, 2, 1, True, 'East'), {'Home': 0, 'Price': 1, 'SqFt': 2, 'Bedrooms': 3, 'Bathrooms': 4, 'Offers': 5, 'Brick': 6, 'Neighborhood': 7})\n",
      "Row((3, 114800, 1740, 3, 2, 1, False, 'East'), {'Home': 0, 'Price': 1, 'SqFt': 2, 'Bedrooms': 3, 'Bathrooms': 4, 'Offers': 5, 'Brick': 6, 'Neighborhood': 7})\n",
      "Row((39, 131300, 1720, 3, 2, 1, False, 'West'), {'Home': 0, 'Price': 1, 'SqFt': 2, 'Bedrooms': 3, 'Bathrooms': 4, 'Offers': 5, 'Brick': 6, 'Neighborhood': 7})\n"
     ]
    }
   ],
   "source": [
    "# Select from uploaded csv file: change dataset \n",
    "# *Don't forget to LIMIT*\n",
    "query = f\"\"\"\n",
    "    SELECT *\n",
    "    FROM `{PROJECT_ID}.{DATASET_ID}.house_price`\n",
    "    LIMIT 10\n",
    "\"\"\"\n",
    "query_job = client.query(query)\n",
    "for row in query_job:\n",
    "    print(row)"
   ]
  },
  {
   "cell_type": "code",
   "execution_count": 7,
   "metadata": {},
   "outputs": [
    {
     "name": "stdout",
     "output_type": "stream",
     "text": [
      "สร้างตาราง mock_customer\n"
     ]
    }
   ],
   "source": [
    "# create table in bigquery\n",
    "schema = [\n",
    "    bigquery.SchemaField(\"full_name\", \"STRING\", mode=\"REQUIRED\"),\n",
    "    bigquery.SchemaField(\"age\", \"INTEGER\", mode=\"REQUIRED\"),\n",
    "]\n",
    "\n",
    "table_id = f\"{PROJECT_ID}.{DATASET_ID}.mock_customer\"\n",
    "\n",
    "table = bigquery.Table(table_id, schema=schema)\n",
    "table = client.create_table(table)\n",
    "print(f\"สร้างตาราง {table.table_id}\")"
   ]
  },
  {
   "cell_type": "code",
   "execution_count": 8,
   "metadata": {},
   "outputs": [
    {
     "name": "stdout",
     "output_type": "stream",
     "text": [
      "เพิ่มข้อมูลสำเร็จ\n"
     ]
    }
   ],
   "source": [
    "# ตัวอย่างการ insert ข้อมูล\n",
    "rows_to_insert = [\n",
    "    {\"full_name\": \"สมชาย ใจดี\", \"age\": 25},\n",
    "    {\"full_name\": \"สมหญิง รักเรียน\", \"age\": 30}, \n",
    "]\n",
    "\n",
    "errors = client.insert_rows_json(table_id, rows_to_insert)\n",
    "if not errors:\n",
    "    print(\"เพิ่มข้อมูลสำเร็จ\")\n",
    "else:\n",
    "    print(\"เกิดข้อผิดพลาด:\", errors)"
   ]
  },
  {
   "cell_type": "code",
   "execution_count": 9,
   "metadata": {},
   "outputs": [
    {
     "name": "stdout",
     "output_type": "stream",
     "text": [
      "Row(('สมชาย ใจดี', 25), {'full_name': 0, 'age': 1})\n",
      "Row(('สมหญิง รักเรียน', 30), {'full_name': 0, 'age': 1})\n"
     ]
    }
   ],
   "source": [
    "query = f\"\"\"\n",
    "    SELECT *\n",
    "    FROM `{PROJECT_ID}.{DATASET_ID}.mock_customer`\n",
    "    LIMIT 10\n",
    "\"\"\"\n",
    "query_job = client.query(query)\n",
    "for row in query_job:\n",
    "    print(row)"
   ]
  },
  {
   "cell_type": "markdown",
   "metadata": {},
   "source": [
    "# Pandas Google Bigquery"
   ]
  },
  {
   "cell_type": "code",
   "execution_count": 10,
   "metadata": {},
   "outputs": [],
   "source": [
    "import pandas as pd\n",
    "import pandas_gbq"
   ]
  },
  {
   "cell_type": "code",
   "execution_count": 11,
   "metadata": {},
   "outputs": [
    {
     "data": {
      "text/html": [
       "<div>\n",
       "<style scoped>\n",
       "    .dataframe tbody tr th:only-of-type {\n",
       "        vertical-align: middle;\n",
       "    }\n",
       "\n",
       "    .dataframe tbody tr th {\n",
       "        vertical-align: top;\n",
       "    }\n",
       "\n",
       "    .dataframe thead th {\n",
       "        text-align: right;\n",
       "    }\n",
       "</style>\n",
       "<table border=\"1\" class=\"dataframe\">\n",
       "  <thead>\n",
       "    <tr style=\"text-align: right;\">\n",
       "      <th></th>\n",
       "      <th>full_name</th>\n",
       "      <th>age</th>\n",
       "    </tr>\n",
       "  </thead>\n",
       "  <tbody>\n",
       "    <tr>\n",
       "      <th>0</th>\n",
       "      <td>Adam</td>\n",
       "      <td>70</td>\n",
       "    </tr>\n",
       "    <tr>\n",
       "      <th>1</th>\n",
       "      <td>Eva</td>\n",
       "      <td>75</td>\n",
       "    </tr>\n",
       "  </tbody>\n",
       "</table>\n",
       "</div>"
      ],
      "text/plain": [
       "  full_name  age\n",
       "0      Adam   70\n",
       "1       Eva   75"
      ]
     },
     "execution_count": 11,
     "metadata": {},
     "output_type": "execute_result"
    }
   ],
   "source": [
    "rows_to_insert = [\n",
    "    {\"full_name\": \"Adam\", \"age\": 70},\n",
    "    {\"full_name\": \"Eva\", \"age\": 75}, \n",
    "]\n",
    "\n",
    "df = pd.DataFrame(rows_to_insert)\n",
    "df\n"
   ]
  },
  {
   "cell_type": "code",
   "execution_count": 12,
   "metadata": {},
   "outputs": [],
   "source": [
    "pandas_gbq.to_gbq(df, f\"{DATASET_ID}.mock_customer\", project_id=PROJECT_ID, if_exists='append')"
   ]
  },
  {
   "cell_type": "code",
   "execution_count": 13,
   "metadata": {},
   "outputs": [
    {
     "name": "stderr",
     "output_type": "stream",
     "text": [
      "/Users/werockstar/works/data+ai-bootcamp/data-ai-bootcamp/.venv/lib/python3.11/site-packages/google/cloud/bigquery/table.py:2379: UserWarning: A progress bar was requested, but there was an error loading the tqdm library. Please install tqdm to use the progress bar functionality.\n",
      "  record_batch = self.to_arrow(\n"
     ]
    },
    {
     "data": {
      "text/html": [
       "<div>\n",
       "<style scoped>\n",
       "    .dataframe tbody tr th:only-of-type {\n",
       "        vertical-align: middle;\n",
       "    }\n",
       "\n",
       "    .dataframe tbody tr th {\n",
       "        vertical-align: top;\n",
       "    }\n",
       "\n",
       "    .dataframe thead th {\n",
       "        text-align: right;\n",
       "    }\n",
       "</style>\n",
       "<table border=\"1\" class=\"dataframe\">\n",
       "  <thead>\n",
       "    <tr style=\"text-align: right;\">\n",
       "      <th></th>\n",
       "      <th>full_name</th>\n",
       "      <th>age</th>\n",
       "    </tr>\n",
       "  </thead>\n",
       "  <tbody>\n",
       "    <tr>\n",
       "      <th>0</th>\n",
       "      <td>Adam</td>\n",
       "      <td>70</td>\n",
       "    </tr>\n",
       "    <tr>\n",
       "      <th>1</th>\n",
       "      <td>Eva</td>\n",
       "      <td>75</td>\n",
       "    </tr>\n",
       "    <tr>\n",
       "      <th>2</th>\n",
       "      <td>สมชาย ใจดี</td>\n",
       "      <td>25</td>\n",
       "    </tr>\n",
       "    <tr>\n",
       "      <th>3</th>\n",
       "      <td>สมหญิง รักเรียน</td>\n",
       "      <td>30</td>\n",
       "    </tr>\n",
       "  </tbody>\n",
       "</table>\n",
       "</div>"
      ],
      "text/plain": [
       "         full_name  age\n",
       "0             Adam   70\n",
       "1              Eva   75\n",
       "2       สมชาย ใจดี   25\n",
       "3  สมหญิง รักเรียน   30"
      ]
     },
     "execution_count": 13,
     "metadata": {},
     "output_type": "execute_result"
    }
   ],
   "source": [
    "query = f\"\"\"\n",
    "    SELECT *\n",
    "    FROM `{PROJECT_ID}.{DATASET_ID}.mock_customer`\n",
    "    LIMIT 10\n",
    "\"\"\"\n",
    "\n",
    "df = pandas_gbq.read_gbq(query, project_id=PROJECT_ID)\n",
    "df"
   ]
  },
  {
   "cell_type": "code",
   "execution_count": null,
   "metadata": {},
   "outputs": [],
   "source": []
  }
 ],
 "metadata": {
  "kernelspec": {
   "display_name": ".venv",
   "language": "python",
   "name": "python3"
  },
  "language_info": {
   "codemirror_mode": {
    "name": "ipython",
    "version": 3
   },
   "file_extension": ".py",
   "mimetype": "text/x-python",
   "name": "python",
   "nbconvert_exporter": "python",
   "pygments_lexer": "ipython3",
   "version": "3.11.9"
  }
 },
 "nbformat": 4,
 "nbformat_minor": 2
}
