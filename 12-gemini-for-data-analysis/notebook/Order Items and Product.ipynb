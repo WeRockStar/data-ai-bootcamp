{
 "cells": [
  {
   "cell_type": "code",
   "execution_count": null,
   "metadata": {
    "id": "J6pjArRGJfIp"
   },
   "outputs": [],
   "source": [
    "# @title Inspect the schema of bigquery-public-data.thelook_ecommerce.products\n",
    "from google.cloud import bigquery\n",
    "\n",
    "# Construct a BigQuery client object.\n",
    "client = bigquery.Client()\n",
    "\n",
    "# Fetch the table\n",
    "table = client.get_table('bigquery-public-data.thelook_ecommerce.products')\n",
    "\n",
    "# View table info\n",
    "print(\"{} rows\".format(table.num_rows))\n",
    "for row in table.schema:\n",
    "  print(\"Column {}: {}\".format(row.name, row.field_type))\n"
   ]
  },
  {
   "cell_type": "code",
   "execution_count": null,
   "metadata": {
    "id": "un6lAm8qJfIp"
   },
   "outputs": [],
   "source": [
    "# @title Inspect the schema of bigquery-public-data.thelook_ecommerce.order_items\n",
    "from google.cloud import bigquery\n",
    "\n",
    "# Construct a BigQuery client object.\n",
    "client = bigquery.Client()\n",
    "\n",
    "# Fetch the table\n",
    "table = client.get_table('bigquery-public-data.thelook_ecommerce.order_items')\n",
    "\n",
    "# View table info\n",
    "print(\"{} rows\".format(table.num_rows))\n",
    "for row in table.schema:\n",
    "  print(\"Column {}: {}\".format(row.name, row.field_type))\n"
   ]
  },
  {
   "cell_type": "code",
   "execution_count": null,
   "metadata": {
    "id": "q_xVKEteJfIp"
   },
   "outputs": [],
   "source": [
    "# @title Setup bigquery client and formatting\n",
    "from google.cloud import bigquery\n",
    "from google.colab import data_table\n",
    "\n",
    "project = 'airflow-demo-437509' # Project ID inserted based on the query results selected to explore\n",
    "client = bigquery.Client(project=project)\n",
    "data_table.enable_dataframe_formatter()"
   ]
  },
  {
   "cell_type": "code",
   "execution_count": null,
   "metadata": {
    "id": "xSV44eoyJfIp"
   },
   "outputs": [],
   "source": [
    "# @title Executes the query\n",
    "\n",
    "sql = '''# prompt: Join these data sources\n",
    "\n",
    "SELECT\n",
    "  products.id,\n",
    "  products.cost,\n",
    "  products.category,\n",
    "  products.name,\n",
    "  products.brand,\n",
    "  products.retail_price,\n",
    "  products.department,\n",
    "  products.sku,\n",
    "  products.distribution_center_id,\n",
    "  order_items.id,\n",
    "  order_items.order_id,\n",
    "  order_items.user_id,\n",
    "  order_items.product_id,\n",
    "  order_items.inventory_item_id,\n",
    "  order_items.status,\n",
    "  order_items.created_at,\n",
    "  order_items.shipped_at,\n",
    "  order_items.delivered_at,\n",
    "  order_items.returned_at,\n",
    "  order_items.sale_price\n",
    "FROM\n",
    "  `bigquery-public-data.thelook_ecommerce.products` AS products\n",
    "INNER JOIN\n",
    "  `bigquery-public-data.thelook_ecommerce.order_items` AS order_items\n",
    "ON\n",
    "  products.id = order_items.product_id;'''\n",
    "query = client.query(sql)\n",
    "query\n",
    "# @title Render the query results\n",
    "\n",
    "job = client.get_job(query.job_id)\n",
    "df = job.to_dataframe()\n",
    "df\n"
   ]
  },
  {
   "cell_type": "code",
   "execution_count": null,
   "metadata": {
    "id": "-uvyw07RJfIp"
   },
   "outputs": [],
   "source": [
    "# @title Executes the query\n",
    "\n",
    "sql1 = '''# prompt: Total sale volume by category where order status is Cancelled or Returned. sort by highest total_sale_volume\n",
    "\n",
    "SELECT\n",
    "  category,\n",
    "  SUM(sale_price) AS total_sale_volume\n",
    "FROM\n",
    "  `SQL` AS t1\n",
    "WHERE\n",
    "  t1.status = 'Cancelled'\n",
    "  OR t1.status = 'Returned'\n",
    "GROUP BY\n",
    "  1\n",
    "ORDER BY\n",
    "  total_sale_volume DESC;'''\n",
    "query1 = client.query(sql1)\n",
    "query1\n",
    "# @title Render the query results\n",
    "\n",
    "job1 = client.get_job(query1.job_id)\n",
    "df1 = job1.to_dataframe()\n",
    "df1\n"
   ]
  },
  {
   "cell_type": "code",
   "execution_count": null,
   "metadata": {
    "id": "jTmcQiBxJfIp"
   },
   "outputs": [],
   "source": [
    "# @title Bar chart sort by highest total_sale_volume\n",
    "\n",
    "import altair as alt\n",
    "\n",
    "chart1 = alt.Chart(data=df1, mark={\n",
    "  \"type\": \"bar\",\n",
    "  \"tooltip\": True\n",
    "}).encode(\n",
    "  x={\n",
    "  \"field\": \"category\",\n",
    "  \"sort\": {\n",
    "    \"field\": \"total_sale_volume\",\n",
    "    \"order\": \"descending\"\n",
    "  },\n",
    "  \"title\": \"Category\",\n",
    "  \"type\": \"nominal\",\n",
    "  \"axis\": {\n",
    "    \"labelOverlap\": True\n",
    "  }\n",
    "},\n",
    "  y={\n",
    "  \"field\": \"total_sale_volume\",\n",
    "  \"title\": \"Total Sale Volume\",\n",
    "  \"type\": \"quantitative\",\n",
    "  \"axis\": {\n",
    "    \"labelOverlap\": True\n",
    "  }\n",
    "},\n",
    "  \n",
    "  \n",
    ")\n",
    "chart1\n"
   ]
  },
  {
   "cell_type": "code",
   "execution_count": null,
   "metadata": {
    "id": "OrgpYqdIJfIp"
   },
   "outputs": [],
   "source": [
    "# @title Executes the query\n",
    "\n",
    "sql2 = '''# prompt: category sales\n",
    "\n",
    "SELECT\n",
    "  t1.category,\n",
    "  SUM(t1.sale_price) AS total_sales\n",
    "FROM\n",
    "  `SQL` AS t1\n",
    "GROUP BY\n",
    "  1;'''\n",
    "query2 = client.query(sql2)\n",
    "query2\n",
    "# @title Render the query results\n",
    "\n",
    "job2 = client.get_job(query2.job_id)\n",
    "df2 = job2.to_dataframe()\n",
    "df2\n"
   ]
  },
  {
   "cell_type": "code",
   "execution_count": null,
   "metadata": {
    "id": "WUyIfEyOJfIp"
   },
   "outputs": [],
   "source": [
    "# @title \n",
    "\n",
    "import altair as alt\n",
    "\n",
    "chart2 = alt.Chart(data=df2, mark={\n",
    "  \"type\": \"bar\",\n",
    "  \"tooltip\": True\n",
    "}).encode(\n",
    "  x={\n",
    "  \"field\": \"category\",\n",
    "  \"type\": \"nominal\",\n",
    "  \"title\": \"Category\",\n",
    "  \"axis\": {\n",
    "    \"labelOverlap\": True\n",
    "  }\n",
    "},\n",
    "  y={\n",
    "  \"field\": \"total_sales\",\n",
    "  \"type\": \"quantitative\",\n",
    "  \"title\": \"Total Sales\",\n",
    "  \"axis\": {\n",
    "    \"labelOverlap\": True\n",
    "  }\n",
    "},\n",
    "  \n",
    "  \n",
    ")\n",
    "chart2\n"
   ]
  },
  {
   "cell_type": "code",
   "execution_count": null,
   "metadata": {
    "id": "eSAaA5QuJfIp"
   },
   "outputs": [],
   "source": [
    "# @title Executes the query\n",
    "\n",
    "sql3 = '''# prompt: Analyze which product category have order sale volume and frequency \n",
    "\n",
    "SELECT\n",
    "  category,\n",
    "  COUNT(DISTINCT order_id) AS order_count,\n",
    "  SUM(sale_price) AS total_sale_volume\n",
    "FROM\n",
    "  `SQL`\n",
    "GROUP BY\n",
    "  1\n",
    "ORDER BY\n",
    "  order_count DESC;'''\n",
    "query3 = client.query(sql3)\n",
    "query3\n",
    "# @title Render the query results\n",
    "\n",
    "job3 = client.get_job(query3.job_id)\n",
    "df3 = job3.to_dataframe()\n",
    "df3\n"
   ]
  }
 ],
 "metadata": {
  "kernelspec": {
   "display_name": "Python 3",
   "name": "python3"
  },
  "language_info": {
   "name": "python"
  }
 },
 "nbformat": 4,
 "nbformat_minor": 0
}
