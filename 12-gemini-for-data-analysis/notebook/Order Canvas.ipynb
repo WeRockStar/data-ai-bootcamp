{
  "nbformat": 4,
  "nbformat_minor": 0,
  "metadata": {
    "kernelspec": {
      "name": "python3",
      "display_name": "Python 3"
    },
    "language_info": {
      "name": "python"
    },
    "colab": {
      "provenance": []
    }
  },
  "cells": [
    {
      "cell_type": "code",
      "execution_count": null,
      "metadata": {
        "id": "eeec204n-Kxe"
      },
      "outputs": [],
      "source": [
        "# @title Inspect the schema of bigquery-public-data.thelook_ecommerce.order_items\n",
        "from google.cloud import bigquery\n",
        "\n",
        "# Construct a BigQuery client object.\n",
        "client = bigquery.Client()\n",
        "\n",
        "# Fetch the table\n",
        "table = client.get_table('bigquery-public-data.thelook_ecommerce.order_items')\n",
        "\n",
        "# View table info\n",
        "print(\"{} rows\".format(table.num_rows))\n",
        "for row in table.schema:\n",
        "  print(\"Column {}: {}\".format(row.name, row.field_type))\n"
      ]
    },
    {
      "cell_type": "code",
      "execution_count": null,
      "metadata": {
        "id": "-QFBBq9l-Kxe"
      },
      "outputs": [],
      "source": [
        "# @title Setup bigquery client and formatting\n",
        "from google.cloud import bigquery\n",
        "from google.colab import data_table\n",
        "\n",
        "project = 'airflow-demo-437509' # Project ID inserted based on the query results selected to explore\n",
        "client = bigquery.Client(project=project)\n",
        "data_table.enable_dataframe_formatter()"
      ]
    },
    {
      "cell_type": "code",
      "execution_count": null,
      "metadata": {
        "id": "vc2sHu6d-Kxe"
      },
      "outputs": [],
      "source": [
        "# @title Executes the query\n",
        "\n",
        "sql = '''# prompt: For Shipped Orders, find average, min, max, lead time in hour before Shipped. Check status need to be 'Shipped' and lead time are higher than 0\n",
        "\n",
        "SELECT\n",
        "  AVG(EXTRACT(HOUR\n",
        "    FROM (shipped_at - created_at))) AS avg_lead_time_hours,\n",
        "  MIN(EXTRACT(HOUR\n",
        "    FROM (shipped_at - created_at))) AS min_lead_time_hours,\n",
        "  MAX(EXTRACT(HOUR\n",
        "    FROM (shipped_at - created_at))) AS max_lead_time_hours\n",
        "FROM\n",
        "  `bigquery-public-data.thelook_ecommerce.order_items`\n",
        "WHERE\n",
        "  status = 'Shipped'\n",
        "  AND EXTRACT(HOUR\n",
        "  FROM (shipped_at - created_at)) > 0;'''\n",
        "query = client.query(sql)\n",
        "query\n",
        "# @title Render the query results\n",
        "\n",
        "job = client.get_job(query.job_id)\n",
        "df = job.to_dataframe()\n",
        "df\n"
      ]
    },
    {
      "cell_type": "code",
      "execution_count": null,
      "metadata": {
        "id": "oI-bfQdt-Kxe"
      },
      "outputs": [],
      "source": [
        "# @title Executes the query\n",
        "\n",
        "sql1 = '''# prompt: For each month, find total_revenue, total_items, total_purchasers, total_orders where the order not Cancelled or Returned. Please sort the result with month. Also noted that total revenue retail price multiply with num_of_item\n",
        "\n",
        "SELECT\n",
        "  EXTRACT(MONTH\n",
        "  FROM\n",
        "    order_items.created_at) AS month,\n",
        "  SUM(order_items.sale_price * order_items.id) AS total_revenue,\n",
        "  COUNT(order_items.id) AS total_items,\n",
        "  COUNT(DISTINCT order_items.user_id) AS total_purchasers,\n",
        "  COUNT(DISTINCT order_items.order_id) AS total_orders\n",
        "FROM\n",
        "  `bigquery-public-data.thelook_ecommerce.order_items` AS order_items\n",
        "WHERE\n",
        "  order_items.status != 'Cancelled'\n",
        "  AND order_items.status != 'Returned'\n",
        "GROUP BY\n",
        "  1\n",
        "ORDER BY\n",
        "  1;'''\n",
        "query1 = client.query(sql1)\n",
        "query1\n",
        "# @title Render the query results\n",
        "\n",
        "job1 = client.get_job(query1.job_id)\n",
        "df1 = job1.to_dataframe()\n",
        "df1\n"
      ]
    },
    {
      "cell_type": "code",
      "execution_count": null,
      "metadata": {
        "id": "V0n0ef-i-Kxe"
      },
      "outputs": [],
      "source": [
        "# @title Line\n",
        "\n",
        "import altair as alt\n",
        "\n",
        "chart1 = alt.Chart(data=df1, mark={\n",
        "  \"type\": \"line\",\n",
        "  \"interpolate\": \"monotone\",\n",
        "  \"tooltip\": True\n",
        "}).encode(\n",
        "  x={\n",
        "  \"field\": \"month\",\n",
        "  \"type\": \"quantitative\",\n",
        "  \"title\": \"Month\",\n",
        "  \"axis\": {\n",
        "    \"labelOverlap\": True\n",
        "  }\n",
        "},\n",
        "  y={\n",
        "  \"field\": \"total_revenue\",\n",
        "  \"type\": \"quantitative\",\n",
        "  \"title\": \"Total Revenue\",\n",
        "  \"axis\": {\n",
        "    \"labelOverlap\": True\n",
        "  }\n",
        "},\n",
        "\n",
        "\n",
        ")\n",
        "chart1\n"
      ]
    },
    {
      "cell_type": "code",
      "execution_count": null,
      "metadata": {
        "id": "6uXRZo2_-Kxe"
      },
      "outputs": [],
      "source": [
        "# @title Inspect the schema of bigquery-public-data.thelook_ecommerce.orders\n",
        "from google.cloud import bigquery\n",
        "\n",
        "# Construct a BigQuery client object.\n",
        "client = bigquery.Client()\n",
        "\n",
        "# Fetch the table\n",
        "table = client.get_table('bigquery-public-data.thelook_ecommerce.orders')\n",
        "\n",
        "# View table info\n",
        "print(\"{} rows\".format(table.num_rows))\n",
        "for row in table.schema:\n",
        "  print(\"Column {}: {}\".format(row.name, row.field_type))\n"
      ]
    },
    {
      "cell_type": "code",
      "execution_count": null,
      "metadata": {
        "id": "x86zTmwb-Kxe"
      },
      "outputs": [],
      "source": [
        "# @title Executes the query\n",
        "\n",
        "sql2 = '''# prompt: For all order, find ratio of each order status per total order\n",
        "\n",
        "SELECT\n",
        "  orders.status,\n",
        "  COUNT(orders.order_id) / (\n",
        "  SELECT\n",
        "    COUNT(*)\n",
        "  FROM\n",
        "    `bigquery-public-data.thelook_ecommerce.orders` AS orders ) AS ratio\n",
        "FROM\n",
        "  `bigquery-public-data.thelook_ecommerce.orders` AS orders\n",
        "GROUP BY\n",
        "  1;'''\n",
        "query2 = client.query(sql2)\n",
        "query2\n",
        "# @title Render the query results\n",
        "\n",
        "job2 = client.get_job(query2.job_id)\n",
        "df2 = job2.to_dataframe()\n",
        "df2\n"
      ]
    },
    {
      "cell_type": "code",
      "execution_count": null,
      "metadata": {
        "id": "-BB8D4b0-Kxe"
      },
      "outputs": [],
      "source": [
        "# @title stacked Bar chart\n",
        "\n",
        "import altair as alt\n",
        "\n",
        "chart2 = alt.Chart(data=df2, mark={\n",
        "  \"type\": \"bar\",\n",
        "  \"tooltip\": True\n",
        "}).encode(\n",
        "  x={\n",
        "  \"field\": \"status\",\n",
        "  \"type\": \"nominal\",\n",
        "  \"title\": \"Status\",\n",
        "  \"axis\": {\n",
        "    \"labelOverlap\": True\n",
        "  }\n",
        "},\n",
        "  y={\n",
        "  \"field\": \"ratio\",\n",
        "  \"type\": \"quantitative\",\n",
        "  \"title\": \"Ratio\",\n",
        "  \"axis\": {\n",
        "    \"labelOverlap\": True\n",
        "  }\n",
        "},\n",
        "\n",
        "\n",
        ")\n",
        "chart2\n"
      ]
    },
    {
      "cell_type": "code",
      "execution_count": null,
      "metadata": {
        "id": "Vr2ohPb8-Kxe"
      },
      "outputs": [],
      "source": [
        "# @title Executes the query\n",
        "\n",
        "sql3 = '''# prompt: Find Cancelled rate based on gender\n",
        "\n",
        "SELECT\n",
        "  orders.gender,\n",
        "  SUM(CASE\n",
        "      WHEN orders.status = 'Cancelled' THEN 1\n",
        "      ELSE 0\n",
        "  END\n",
        "    ) / COUNT(orders.order_id) AS cancelled_rate\n",
        "FROM\n",
        "  `bigquery-public-data.thelook_ecommerce.orders` AS orders\n",
        "GROUP BY\n",
        "  1;'''\n",
        "query3 = client.query(sql3)\n",
        "query3\n",
        "# @title Render the query results\n",
        "\n",
        "job3 = client.get_job(query3.job_id)\n",
        "df3 = job3.to_dataframe()\n",
        "df3\n"
      ]
    }
  ]
}